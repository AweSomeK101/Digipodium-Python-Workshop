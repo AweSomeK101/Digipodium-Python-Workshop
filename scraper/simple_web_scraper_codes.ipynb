{
 "cells": [
  {
   "cell_type": "code",
   "execution_count": 1,
   "metadata": {},
   "outputs": [],
   "source": [
    "from bs4 import BeautifulSoup\n",
    "import requests"
   ]
  },
  {
   "cell_type": "code",
   "execution_count": 5,
   "metadata": {},
   "outputs": [],
   "source": [
    "def get_data(url):\n",
    "    try:\n",
    "        page = requests.get(url)\n",
    "        if page.status_code == 200:\n",
    "            return page.text\n",
    "        else:\n",
    "            print(page.status_code)\n",
    "            return None\n",
    "    except Exception as e:\n",
    "        print(e)"
   ]
  },
  {
   "cell_type": "code",
   "execution_count": 6,
   "metadata": {},
   "outputs": [],
   "source": [
    "query = \"carbon\"\n",
    "url =  f\"https://www.google.co.in/search?q={query}\""
   ]
  },
  {
   "cell_type": "code",
   "execution_count": 7,
   "metadata": {},
   "outputs": [],
   "source": [
    "data = get_data(url)"
   ]
  },
  {
   "cell_type": "code",
   "execution_count": 8,
   "metadata": {},
   "outputs": [
    {
     "data": {
      "text/plain": [
       "str"
      ]
     },
     "execution_count": 8,
     "metadata": {},
     "output_type": "execute_result"
    }
   ],
   "source": [
    "type(data)"
   ]
  },
  {
   "cell_type": "code",
   "execution_count": 9,
   "metadata": {},
   "outputs": [],
   "source": [
    "soup = BeautifulSoup(data,\"lxml\")"
   ]
  },
  {
   "cell_type": "code",
   "execution_count": 26,
   "metadata": {},
   "outputs": [
    {
     "name": "stdout",
     "output_type": "stream",
     "text": [
      "===> https://encrypted-tbn0.gstatic.com/images?q=tbn:ANd9GcSiPDHNHvLGbmy_JtpYsD53cw0w-T3zLBtQ_ND0_8BTjO_uX-HRwxA0p-jrkw\n",
      "===> /maps/vt/data=MZBcJYv8iixHNHONuSCyaorRMApApvkuSn7ZNwfRSUaPaxVYUJ4fNPI2-C0ShgZvuWTGBqu_ZoH2YEi8h8rE1xrekCzvZ09tWVrjXre4AKsm8gxTLJMMOh7PbhZojKdWpnGPV3gomkjlH2rQRVat0hB_XyAAmwpWo1XzGT66ys1eYPPrtkhlA3XRLa1gLnhg7m2eiclYv1liwr3OmiAwlu7oyFFR2gQ5ZRE1PGVSKbkwXDbnv8MJt0czuuBkA4roWunwxFtR5bhq3Eh5hiocws7fab2go5xSpyKC6j0dAwGNZ5yY-TWLFVtWlZqXuylD8j-efOX22goKL_4JZL4ZUzTGy1Gat2AuYEtT4DrWz4k4LPLZuLxE1NChc-mHYk7wOk_MiRtcjQEWuF4A4JXt71_htu8p0jizw2ibKOIseN8w8vEXshfTlSkSErAGEj8ocrtgH41IiFmX5-SvH7IzzlmMwwPNCs_PkAve9LkNXI6yOm2PM8sBVf-yG_CFksmsKC3R6quEJBH-4P1dZenf_ApKFVcMOIvH7KkcwTLynqi0kMcg2371132c08LUu6OFrOpuNUs8iZXEyixr9oNJrC2Ah7bafzWlP_jEY30TVTejYYFmS88rdFUxiTrsz74gd_cbGb81\n",
      "===> https://encrypted-tbn0.gstatic.com/images?q=tbn:ANd9GcTy39grdF8ahbqW6eywxRc3edNLdHW-E-C6V_aXUXd4JK_c3rEu6NriKPE\n",
      "===> https://encrypted-tbn0.gstatic.com/images?q=tbn:ANd9GcRss8PNjcvzYe45pLcxztyLyXbUZ7kiHe0marXQa81lRjpEBW_YSoBaIw\n",
      "===> https://encrypted-tbn0.gstatic.com/images?q=tbn:ANd9GcRMVzKnJRhUZNrDXIlAVL1yHqXj5HcElN3RT1FiFolMlmTndrylPfuvdA8\n",
      "===> https://encrypted-tbn0.gstatic.com/images?q=tbn:ANd9GcS9Qzg3hIwmlrPOB8_0eAHSL5w15Bi2eeLHgkmpp9m_qM16CU5z2D26AVw\n",
      "===> https://encrypted-tbn0.gstatic.com/images?q=tbn:ANd9GcSY6GFnccN9bpXaVw_v6NV6vuMRLO_FHrjzrZUH5ffVqrS7uU6GPuF9sNs\n",
      "===> https://encrypted-tbn0.gstatic.com/images?q=tbn:ANd9GcSiPDHNHvLGbmy_JtpYsD53cw0w-T3zLBtQ_ND0_8BTjO_uX-HRwxA0p-jrkw\n",
      "===> https://encrypted-tbn2.gstatic.com/images?q=tbn:ANd9GcQSQQe1eeAB-BLe6IE9Raz2InUycHnxoImEctAjO5kN-L_8S8OJxII\n",
      "===> https://encrypted-tbn2.gstatic.com/images?q=tbn:ANd9GcQAj2aRCbIj205pVx98zNSH_nPv6enK1CxXJqEZRXm852JPwIhB_Is\n",
      "===> https://encrypted-tbn3.gstatic.com/images?q=tbn:ANd9GcRWzaB0GlDIac0sH20y9XXcNMLxg-TyCCBQUThUZjH8-Dx8P5xZVKGIEO0E_HuG2qotYC0\n",
      "===> https://encrypted-tbn3.gstatic.com/images?q=tbn:ANd9GcTRFSkIHL_NF2BHJxU8nqu1TzNrjaQ8KcyEnPl-7qbHFucDpOyCLrk\n",
      "===> https://encrypted-tbn0.gstatic.com/images?q=tbn:ANd9GcT7HXiWulNks0CQYupJJJlC5s_ymnd8w0PbFgcBUmeC2KyTEmyCBWlxWsJ_ls5fzaOny2A\n",
      "===> https://encrypted-tbn1.gstatic.com/images?q=tbn:ANd9GcS84DEHNrRbM4bIoHhp49kgQ2FGBS0gLwC_tybQz5c0QZTEBnw4GqZAjSYzC2WBSktuntk\n",
      "===> https://encrypted-tbn1.gstatic.com/images?q=tbn:ANd9GcTOLbW9vWw0y7Oh0xyEfAvv9dPY7G2mtNy8aQRWRWTMch4nav8dOeuXpw\n"
     ]
    }
   ],
   "source": [
    "for tag in soup.find_all('img'):\n",
    "    print(\"===>\", tag.attrs.get('src'))\n",
    "    "
   ]
  },
  {
   "cell_type": "code",
   "execution_count": 34,
   "metadata": {},
   "outputs": [],
   "source": [
    "url =\"https://timesofindia.indiatimes.com/\"\n",
    "news =get_data(url)"
   ]
  },
  {
   "cell_type": "code",
   "execution_count": 28,
   "metadata": {},
   "outputs": [],
   "source": [
    "soup = BeautifulSoup(news,\"lxml\")"
   ]
  },
  {
   "cell_type": "code",
   "execution_count": 30,
   "metadata": {},
   "outputs": [
    {
     "name": "stdout",
     "output_type": "stream",
     "text": [
      "<class 'bs4.element.Tag'>\n"
     ]
    }
   ],
   "source": [
    "topstory = soup.find('div',attrs={'class':'top-story'})\n",
    "print(type(topstory))"
   ]
  },
  {
   "cell_type": "code",
   "execution_count": 35,
   "metadata": {},
   "outputs": [
    {
     "name": "stdout",
     "output_type": "stream",
     "text": [
      "\n",
      "US sanctions: India's Iran oil imports to decline\n",
      "\n",
      "link https://timesofindia.indiatimes.com//business/india-business/indias-iran-oil-purchases-to-fade-ahead-of-us-sanctions/articleshow/65807940.cms\n",
      "\n",
      "Pachauri to be charged in sexual assault case\n",
      "\n",
      "link https://timesofindia.indiatimes.com//india/court-orders-framing-of-charges-against-former-teri-chief-r-k-pachauri/articleshow/65808795.cms\n",
      "\n",
      "Rs 50 lakh compensation for Nambi Narayanan\n",
      "\n",
      "link https://timesofindia.indiatimes.com//india/isro-spy-case-sc-awards-rs-50-lakh-compensation-to-scientist-nambi-narayanan/articleshow/65805049.cms\n",
      "\n",
      "Kohli's lack of experience shows: Sunil Gavaskar\n",
      "\n",
      "link https://timesofindia.indiatimes.com//sports/cricket/india-in-england/at-times-virat-kohlis-lack-of-experience-shows-sunil-gavaskar/articleshow/65803256.cms\n",
      "\n",
      "SC takes note of misuse of anti-dowry law\n",
      "\n",
      "link https://timesofindia.indiatimes.com//india/supreme-court-takes-note-of-misuse-of-section-498a-makes-it-bailable/articleshow/65805285.cms\n",
      "\n",
      "When a cobra’s kiss gives ‘joy, grandiosity’\n",
      "\n",
      "link https://timesofindia.indiatimes.com//india/when-a-cobras-kiss-gives-joy-grandiosity-sleepiness/articleshow/65802577.cms\n",
      "\n",
      "Bhopal Univ to hand over ‘adarsh bahu’ certificate\n",
      "\n",
      "link https://timesofindia.indiatimes.com//city/bhopal/now-bhopal-varsity-to-make-ideal-brides/articleshow/65803214.cms\n"
     ]
    }
   ],
   "source": [
    "for item in topstory.find_all('li'):\n",
    "    print(item.text)\n",
    "    print('link',url+item.find('a').attrs.get('href'))"
   ]
  },
  {
   "cell_type": "code",
   "execution_count": 38,
   "metadata": {},
   "outputs": [],
   "source": [
    "url= \"https://www.pcgamesn.com/\"\n",
    "soup = BeautifulSoup(get_data(url),'lxml')\n"
   ]
  },
  {
   "cell_type": "code",
   "execution_count": 39,
   "metadata": {},
   "outputs": [
    {
     "name": "stdout",
     "output_type": "stream",
     "text": [
      "PC Games news and reviews from PCGamesN.com\n",
      "Last Wish raid guide: what we know about Destiny 2 Forsaken’s raid\n",
      "How the UK’s potholes and hedgerows shake up Forza Horizon 4’s open world\n",
      "Frozen Synapse 2 strips tactical gameplay of RNG and demands you prove yourself\n",
      "Nutaku and the challenge of making erotic games for everyone\n",
      "AMD will surpass Intel on CPU performance next year, says leading tech analysts\n",
      "Best racing games 2018: ten of the best for PC\n",
      "Immortal: Unchained is a dark sci-fi Souls-like where you shoot glowing undead\n",
      "Nvidia’s AI-powered DLSS support grows to 25 games for RTX graphics cards\n",
      "Frostpunk’s Fall of Winterhome expansion arrives next week – and it’s free\n",
      "Assassin’s Creed 3’s director would fix the game using pig butchery (and boats)\n",
      "Old School RuneScape’s soundtrack is coming to vinyl\n",
      "The best horror games on PC\n",
      "The 10 best stealth games on PC\n",
      "Shadow of the Tomb Raider tips – how to be a real jungle predator\n"
     ]
    }
   ],
   "source": [
    "for header in soup.find_all('h2'):\n",
    "    print(header.text)"
   ]
  },
  {
   "cell_type": "code",
   "execution_count": null,
   "metadata": {},
   "outputs": [],
   "source": []
  }
 ],
 "metadata": {
  "kernelspec": {
   "display_name": "Python 3",
   "language": "python",
   "name": "python3"
  },
  "language_info": {
   "codemirror_mode": {
    "name": "ipython",
    "version": 3
   },
   "file_extension": ".py",
   "mimetype": "text/x-python",
   "name": "python",
   "nbconvert_exporter": "python",
   "pygments_lexer": "ipython3",
   "version": "3.6.5"
  }
 },
 "nbformat": 4,
 "nbformat_minor": 2
}
