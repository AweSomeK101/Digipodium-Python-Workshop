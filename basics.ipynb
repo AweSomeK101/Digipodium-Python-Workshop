{
 "cells": [
  {
   "cell_type": "markdown",
   "metadata": {},
   "source": [
    "# Python Basics"
   ]
  },
  {
   "cell_type": "markdown",
   "metadata": {},
   "source": [
    "## datatypes\n",
    "| type \t| example \t|\n",
    "|--------\t|----------------------\t|\n",
    "| **str** \t| \"hello\", 'hola', '''Bonjour''', \"\"\"Namaste\"\"\" \t|\n",
    "| **int** \t| 1, 2, -3, +10 \t|\n",
    "| **float** \t| 0.1, 2.333, -2.11, +1.131223 \t|\n",
    "| **bool** \t| True, False \t|\n",
    "| **list** \t| list(), [] , [1,2,3,4], ['a','b','c'] \t|\n",
    "| **tuple** \t| tuple(), () , (1,2,3), ('a','b','c') \t|\n",
    "| **set** \t| set(), {}, {1,2,3}, {'a','b','c'} \t|\n",
    "| **dict** \t| dict(), {'a':'apple','b':'baseball'} \t|"
   ]
  },
  {
   "cell_type": "markdown",
   "metadata": {},
   "source": [
    "## variables"
   ]
  },
  {
   "cell_type": "code",
   "execution_count": 2,
   "metadata": {},
   "outputs": [],
   "source": [
    "x = 5\n",
    "fruit = \"apple\"\n",
    "cost =483.55\n",
    "is_easy = True\n",
    "work  = None"
   ]
  },
  {
   "cell_type": "markdown",
   "metadata": {},
   "source": [
    "### some maths"
   ]
  },
  {
   "cell_type": "markdown",
   "metadata": {},
   "source": [
    "| Symbol \t| Meaning \t|\n",
    "|--------\t|----------------------\t|\n",
    "| + \t| Add \t|\n",
    "| - \t| Sub \t|\n",
    "| * \t| multiply \t|\n",
    "| / \t| divide (float value) \t|\n",
    "| // \t| divide (quotient) \t|\n",
    "| % \t| mod (remainder) \t|\n",
    "| ** \t| exponent \t|"
   ]
  },
  {
   "cell_type": "markdown",
   "metadata": {},
   "source": [
    "## data structures"
   ]
  },
  {
   "cell_type": "markdown",
   "metadata": {},
   "source": [
    "#### list\n",
    "- indexed\n",
    "- dynamic (mutable)\n",
    "- mixed datatype\n"
   ]
  },
  {
   "cell_type": "code",
   "execution_count": 5,
   "metadata": {},
   "outputs": [
    {
     "name": "stdout",
     "output_type": "stream",
     "text": [
      "Legion\n"
     ]
    }
   ],
   "source": [
    "books = ['Legion','The hero of Ages','SteelHeart']\n",
    "\n",
    "print(books[0])"
   ]
  },
  {
   "cell_type": "markdown",
   "metadata": {},
   "source": [
    "#### dictionary\n",
    "- key : value pairs\n",
    "- dynamic\n",
    "- unordered\n",
    "- key (strings)\n",
    "- value (any datatype)"
   ]
  },
  {
   "cell_type": "code",
   "execution_count": 6,
   "metadata": {},
   "outputs": [
    {
     "name": "stdout",
     "output_type": "stream",
     "text": [
      "60.0\n"
     ]
    }
   ],
   "source": [
    "todays_menu = {\n",
    "    \"Idli\" : 45.00,\n",
    "    \"Dosa\" : 60.00,\n",
    "    \"Pizza\":350.00,\n",
    "}\n",
    "\n",
    "print(todays_menu['Dosa'])"
   ]
  }
 ],
 "metadata": {
  "kernelspec": {
   "display_name": "Python 3",
   "language": "python",
   "name": "python3"
  },
  "language_info": {
   "codemirror_mode": {
    "name": "ipython",
    "version": 3
   },
   "file_extension": ".py",
   "mimetype": "text/x-python",
   "name": "python",
   "nbconvert_exporter": "python",
   "pygments_lexer": "ipython3",
   "version": "3.6.5"
  }
 },
 "nbformat": 4,
 "nbformat_minor": 2
}
