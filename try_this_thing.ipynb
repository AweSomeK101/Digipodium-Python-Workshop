{
 "cells": [
  {
   "cell_type": "markdown",
   "metadata": {},
   "source": [
    "# turtle code"
   ]
  },
  {
   "cell_type": "markdown",
   "metadata": {},
   "source": [
    "## draw a simple graphical flower"
   ]
  },
  {
   "cell_type": "code",
   "execution_count": 2,
   "metadata": {},
   "outputs": [],
   "source": [
    "from turtle import *\n",
    "color('red', 'yellow')\n",
    "begin_fill()\n",
    "while True:\n",
    "    forward(200)\n",
    "    left(170)\n",
    "    if abs(pos()) < 1:\n",
    "        break\n",
    "end_fill()\n",
    "done()"
   ]
  },
  {
   "cell_type": "markdown",
   "metadata": {},
   "source": [
    "## a more complex example"
   ]
  },
  {
   "cell_type": "code",
   "execution_count": null,
   "metadata": {},
   "outputs": [],
   "source": [
    "import turtle\n",
    "import math\n",
    "import colorsys\n",
    " \n",
    "phi = 180 * (3 - math.sqrt(5))\n",
    " \n",
    "t = turtle.Pen()\n",
    "t.speed(0)\n",
    " \n",
    "def square(t, size):\n",
    "    for tmp in range(0,4):\n",
    "        t.forward(size)\n",
    "        t.right(90)\n",
    "num = 200\n",
    "for x in reversed(range(0, num)):\n",
    "    t.fillcolor(colorsys.hsv_to_rgb(x/num, 1.0, 1.0))\n",
    "    t.begin_fill()\n",
    "    t.circle(5 + x, None, 11)\n",
    "    square(t, 5 + x)\n",
    "    t.end_fill()\n",
    "    t.right(phi)\n",
    "    t.right(.8)\n",
    "\n",
    "turtle.mainloop()"
   ]
  }
 ],
 "metadata": {
  "kernelspec": {
   "display_name": "Python 3",
   "language": "python",
   "name": "python3"
  },
  "language_info": {
   "codemirror_mode": {
    "name": "ipython",
    "version": 3
   },
   "file_extension": ".py",
   "mimetype": "text/x-python",
   "name": "python",
   "nbconvert_exporter": "python",
   "pygments_lexer": "ipython3",
   "version": "3.6.5"
  }
 },
 "nbformat": 4,
 "nbformat_minor": 2
}
